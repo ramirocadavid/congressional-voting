{
 "cells": [
  {
   "cell_type": "markdown",
   "metadata": {},
   "source": [
    "## Prueba Científico de Datos - Aflore"
   ]
  },
  {
   "cell_type": "markdown",
   "metadata": {},
   "source": [
    "### Contexto"
   ]
  },
  {
   "cell_type": "markdown",
   "metadata": {},
   "source": [
    "**Instrucciones Aflore**"
   ]
  },
  {
   "cell_type": "markdown",
   "metadata": {},
   "source": [
    "Aplicar al conjunto de datos proporcionado el clasificador de Naive Bayes. Los datos se proporcionan en formato csv.\n",
    "\n",
    "Descripción de la actividad\n",
    "- Análisis descriptivo de los datos.\n",
    "- Determinar el conjunto de modelización y el de validación.\n",
    "- Tratamiento de missing.\n",
    "- Calcular las métricas de evaluación de ajuste adecuadas.\n",
    "- Comentar los resultados obtenidos.\n",
    "- Otros comentarios que parezcan adecuados.\n",
    "- Platear como lo haría en MySql o Postgresql (resolverlo en sql es plus)\n",
    "\n",
    "\n",
    "https://archive.ics.uci.edu/ml/datasets/congressional+voting+records contiene la información necesaria sobre los datos, la variable respuesta es «Class name»\n",
    "\n",
    "Los datos tratan información relacionada con el voto en las elecciones americanas.\n",
    "- Máximo de 3 páginas\n",
    "- Usar Python\n",
    "- Se deben comentar los resultados obtenidos y el código en jupyter\n"
   ]
  },
  {
   "cell_type": "markdown",
   "metadata": {},
   "source": [
    "**Contexto [fuente de datos](https://archive.ics.uci.edu/ml/datasets/congressional+voting+records)**"
   ]
  },
  {
   "cell_type": "code",
   "execution_count": 19,
   "metadata": {},
   "outputs": [
    {
     "name": "stdout",
     "output_type": "stream",
     "text": [
      "1. Title: 1984 United States Congressional Voting Records Database\n",
      "\n",
      "2. Source Information:\n",
      "    (a) Source:  Congressional Quarterly Almanac, 98th Congress, \n",
      "                 2nd session 1984, Volume XL: Congressional Quarterly Inc. \n",
      "                 Washington, D.C., 1985.\n",
      "    (b) Donor: Jeff Schlimmer (Jeffrey.Schlimmer@a.gp.cs.cmu.edu)\n",
      "    (c) Date: 27 April 1987 \n",
      "\n",
      "3. Past Usage\n",
      "   - Publications\n",
      "     1. Schlimmer, J. C. (1987).  Concept acquisition through \n",
      "        representational adjustment.  Doctoral dissertation, Department of \n",
      "        Information and Computer Science, University of California, Irvine, CA.\n",
      "        -- Results: about 90%-95% accuracy appears to be STAGGER's asymptote\n",
      "     - Predicted attribute: party affiliation (2 classes)\n",
      "\n",
      "4. Relevant Information:\n",
      "      This data set includes votes for each of the U.S. House of\n",
      "      Representatives Congressmen on the 16 key votes identified by the\n",
      "      CQA.  The CQA lists nine different types of votes: voted for, paired\n",
      "      for, and announced for (these three simplified to yea), voted\n",
      "      against, paired against, and announced against (these three\n",
      "      simplified to nay), voted present, voted present to avoid conflict\n",
      "      of interest, and did not vote or otherwise make a position known\n",
      "      (these three simplified to an unknown disposition).\n",
      "\n",
      "5. Number of Instances: 435 (267 democrats, 168 republicans)\n",
      "\n",
      "6. Number of Attributes: 16 + class name = 17 (all Boolean valued)\n",
      "\n",
      "7. Attribute Information:\n",
      "   1. Class Name: 2 (democrat, republican)\n",
      "   2. handicapped-infants: 2 (y,n)\n",
      "   3. water-project-cost-sharing: 2 (y,n)\n",
      "   4. adoption-of-the-budget-resolution: 2 (y,n)\n",
      "   5. physician-fee-freeze: 2 (y,n)\n",
      "   6. el-salvador-aid: 2 (y,n)\n",
      "   7. religious-groups-in-schools: 2 (y,n)\n",
      "   8. anti-satellite-test-ban: 2 (y,n)\n",
      "   9. aid-to-nicaraguan-contras: 2 (y,n)\n",
      "  10. mx-missile: 2 (y,n)\n",
      "  11. immigration: 2 (y,n)\n",
      "  12. synfuels-corporation-cutback: 2 (y,n)\n",
      "  13. education-spending: 2 (y,n)\n",
      "  14. superfund-right-to-sue: 2 (y,n)\n",
      "  15. crime: 2 (y,n)\n",
      "  16. duty-free-exports: 2 (y,n)\n",
      "  17. export-administration-act-south-africa: 2 (y,n)\n",
      "\n",
      "8. Missing Attribute Values: Denoted by \"?\"\n",
      "\n",
      "   NOTE: It is important to recognize that \"?\" in this database does \n",
      "         not mean that the value of the attribute is unknown.  It \n",
      "         means simply, that the value is not \"yea\" or \"nay\" (see \n",
      "         \"Relevant Information\" section above).\n",
      "\n",
      "   Attribute:  #Missing Values:\n",
      "           1:  0\n",
      "           2:  0\n",
      "           3:  12\n",
      "           4:  48\n",
      "           5:  11\n",
      "           6:  11\n",
      "           7:  15\n",
      "           8:  11\n",
      "           9:  14\n",
      "          10:  15\n",
      "          11:  22\n",
      "          12:  7\n",
      "          13:  21\n",
      "          14:  31\n",
      "          15:  25\n",
      "          16:  17\n",
      "          17:  28\n",
      "\n",
      "9. Class Distribution: (2 classes)\n",
      "   1. 45.2 percent are democrat\n",
      "   2. 54.8 percent are republican\n",
      "\n",
      "Class predictiveness and predictability: Pr(C|A=V) and Pr(A=V|C)\n",
      " Attribute 1: (A = handicapped-infants)\n",
      "  0.91;  1.21  (C=democrat; V=y)\n",
      "  0.09;  0.10  (C=republican; V=y)\n",
      "  0.43;  0.38  (C=democrat; V=n)\n",
      "  0.57;  0.41  (C=republican; V=n)\n",
      "  0.75;  0.03  (C=democrat; V=?)\n",
      "  0.25;  0.01  (C=republican; V=?)\n",
      " Attribute 2: (A = water-project-cost-sharing)\n",
      "  0.62;  0.45  (C=democrat; V=y)\n",
      "  0.38;  0.23  (C=republican; V=y)\n",
      "  0.62;  0.45  (C=democrat; V=n)\n",
      "  0.38;  0.23  (C=republican; V=n)\n",
      "  0.58;  0.10  (C=democrat; V=?)\n",
      "  0.42;  0.06  (C=republican; V=?)\n",
      " Attribute 3: (A = adoption-of-the-budget-resolution)\n",
      "  0.91;  0.87  (C=democrat; V=y)\n",
      "  0.09;  0.07  (C=republican; V=y)\n",
      "  0.17;  0.11  (C=democrat; V=n)\n",
      "  0.83;  0.44  (C=republican; V=n)\n",
      "  0.64;  0.03  (C=democrat; V=?)\n",
      "  0.36;  0.01  (C=republican; V=?)\n",
      " Attribute 4: (A = physician-fee-freeze)\n",
      "  0.08;  0.05  (C=democrat; V=y)\n",
      "  0.92;  0.50  (C=republican; V=y)\n",
      "  0.99;  0.92  (C=democrat; V=n)\n",
      "  0.01;  0.01  (C=republican; V=n)\n",
      "  0.73;  0.03  (C=democrat; V=?)\n",
      "  0.27;  0.01  (C=republican; V=?)\n",
      " Attribute 5: (A = el-salvador-aid)\n",
      "  0.26;  0.21  (C=democrat; V=y)\n",
      "  0.74;  0.48  (C=republican; V=y)\n",
      "  0.96;  0.75  (C=democrat; V=n)\n",
      "  0.04;  0.02  (C=republican; V=n)\n",
      "  0.80;  0.04  (C=democrat; V=?)\n",
      "  0.20;  0.01  (C=republican; V=?)\n",
      " Attribute 6: (A = religious-groups-in-schools)\n",
      "  0.45;  0.46  (C=democrat; V=y)\n",
      "  0.55;  0.46  (C=republican; V=y)\n",
      "  0.89;  0.51  (C=democrat; V=n)\n",
      "  0.11;  0.05  (C=republican; V=n)\n",
      "  0.82;  0.03  (C=democrat; V=?)\n",
      "  0.18;  0.01  (C=republican; V=?)\n",
      " Attribute 7: (A = anti-satellite-test-ban)\n",
      "  0.84;  0.75  (C=democrat; V=y)\n",
      "  0.16;  0.12  (C=republican; V=y)\n",
      "  0.32;  0.22  (C=democrat; V=n)\n",
      "  0.68;  0.38  (C=republican; V=n)\n",
      "  0.57;  0.03  (C=democrat; V=?)\n",
      "  0.43;  0.02  (C=republican; V=?)\n",
      " Attribute 8: (A = aid-to-nicaraguan-contras)\n",
      "  0.90;  0.82  (C=democrat; V=y)\n",
      "  0.10;  0.07  (C=republican; V=y)\n",
      "  0.25;  0.17  (C=democrat; V=n)\n",
      "  0.75;  0.41  (C=republican; V=n)\n",
      "  0.27;  0.01  (C=democrat; V=?)\n",
      "  0.73;  0.03  (C=republican; V=?)\n",
      " Attribute 9: (A = mx-missile)\n",
      "  0.91;  0.70  (C=democrat; V=y)\n",
      "  0.09;  0.06  (C=republican; V=y)\n",
      "  0.29;  0.22  (C=democrat; V=n)\n",
      "  0.71;  0.45  (C=republican; V=n)\n",
      "  0.86;  0.07  (C=democrat; V=?)\n",
      "  0.14;  0.01  (C=republican; V=?)\n",
      " Attribute 10: (A = immigration)\n",
      "  0.57;  0.46  (C=democrat; V=y)\n",
      "  0.43;  0.28  (C=republican; V=y)\n",
      "  0.66;  0.52  (C=democrat; V=n)\n",
      "  0.34;  0.23  (C=republican; V=n)\n",
      "  0.57;  0.01  (C=democrat; V=?)\n",
      "  0.43;  0.01  (C=republican; V=?)\n",
      " Attribute 11: (A = synfuels-corporation-cutback)\n",
      "  0.86;  0.48  (C=democrat; V=y)\n",
      "  0.14;  0.06  (C=republican; V=y)\n",
      "  0.48;  0.47  (C=democrat; V=n)\n",
      "  0.52;  0.43  (C=republican; V=n)\n",
      "  0.57;  0.04  (C=democrat; V=?)\n",
      "  0.43;  0.03  (C=republican; V=?)\n",
      " Attribute 12: (A = education-spending)\n",
      "  0.21;  0.13  (C=democrat; V=y)\n",
      "  0.79;  0.42  (C=republican; V=y)\n",
      "  0.91;  0.80  (C=democrat; V=n)\n",
      "  0.09;  0.06  (C=republican; V=n)\n",
      "  0.58;  0.07  (C=democrat; V=?)\n",
      "  0.42;  0.04  (C=republican; V=?)\n",
      " Attribute 13: (A = superfund-right-to-sue)\n",
      "  0.35;  0.27  (C=democrat; V=y)\n",
      "  0.65;  0.42  (C=republican; V=y)\n",
      "  0.89;  0.67  (C=democrat; V=n)\n",
      "  0.11;  0.07  (C=republican; V=n)\n",
      "  0.60;  0.06  (C=democrat; V=?)\n",
      "  0.40;  0.03  (C=republican; V=?)\n",
      " Attribute 14: (A = crime)\n",
      "  0.36;  0.34  (C=democrat; V=y)\n",
      "  0.64;  0.49  (C=republican; V=y)\n",
      "  0.98;  0.63  (C=democrat; V=n)\n",
      "  0.02;  0.01  (C=republican; V=n)\n",
      "  0.59;  0.04  (C=democrat; V=?)\n",
      "  0.41;  0.02  (C=republican; V=?)\n",
      " Attribute 15: (A = duty-free-exports)\n",
      "  0.92;  0.60  (C=democrat; V=y)\n",
      "  0.08;  0.04  (C=republican; V=y)\n",
      "  0.39;  0.34  (C=democrat; V=n)\n",
      "  0.61;  0.44  (C=republican; V=n)\n",
      "  0.57;  0.06  (C=democrat; V=?)\n",
      "  0.43;  0.04  (C=republican; V=?)\n",
      " Attribute 16: (A = export-administration-act-south-africa)\n",
      "  0.64;  0.65  (C=democrat; V=y)\n",
      "  0.36;  0.30  (C=republican; V=y)\n",
      "  0.19;  0.04  (C=democrat; V=n)\n",
      "  0.81;  0.15  (C=republican; V=n)\n",
      "  0.79;  0.31  (C=democrat; V=?)\n",
      "  0.21;  0.07  (C=republican; V=?)\n"
     ]
    }
   ],
   "source": [
    "# Ver contexto de los datos\n",
    "!cat ../datos/house-votes-84.names"
   ]
  },
  {
   "cell_type": "markdown",
   "metadata": {},
   "source": [
    "### Importar módulos y datos"
   ]
  },
  {
   "cell_type": "code",
   "execution_count": 17,
   "metadata": {},
   "outputs": [],
   "source": [
    "import joblib\n",
    "import numpy as np\n",
    "import pandas as pd\n",
    "import matplotlib.pyplot as plt\n",
    "import seaborn as sns\n",
    "from scipy import stats\n",
    "\n",
    "from sklearn.preprocessing import LabelEncoder, LabelBinarizer\n",
    "from sklearn.model_selection import train_test_split, GridSearchCV\n",
    "from sklearn.naive_bayes import CategoricalNB\n",
    "from sklearn.pipeline import Pipeline\n",
    "from sklearn.metrics import accuracy_score, balanced_accuracy_score, f1_score, roc_curve, auc, roc_auc_score, \\\n",
    "                            RocCurveDisplay, confusion_matrix, ConfusionMatrixDisplay\n",
    "from sklearn.calibration import calibration_curve, CalibratedClassifierCV"
   ]
  },
  {
   "cell_type": "code",
   "execution_count": 20,
   "metadata": {},
   "outputs": [
    {
     "name": "stdout",
     "output_type": "stream",
     "text": [
      "republican,n,y,n,y,y,y,n,n,n,y,?,y,y,y,n,y\n",
      "republican,n,y,n,y,y,y,n,n,n,n,n,y,y,y,n,?\n",
      "democrat,?,y,y,?,y,y,n,n,n,n,y,n,y,y,n,n\n",
      "democrat,n,y,y,n,?,y,n,n,n,n,y,n,y,n,n,y\n",
      "democrat,y,y,y,n,y,y,n,n,n,n,y,?,y,y,y,y\n"
     ]
    }
   ],
   "source": [
    "%%bash\n",
    "# Visualizar primeras filas para entender estructura de los datos\n",
    "head -n 5 ../datos/house-votes-84.data"
   ]
  },
  {
   "cell_type": "code",
   "execution_count": 21,
   "metadata": {},
   "outputs": [
    {
     "data": {
      "text/html": [
       "<div>\n",
       "<style scoped>\n",
       "    .dataframe tbody tr th:only-of-type {\n",
       "        vertical-align: middle;\n",
       "    }\n",
       "\n",
       "    .dataframe tbody tr th {\n",
       "        vertical-align: top;\n",
       "    }\n",
       "\n",
       "    .dataframe thead th {\n",
       "        text-align: right;\n",
       "    }\n",
       "</style>\n",
       "<table border=\"1\" class=\"dataframe\">\n",
       "  <thead>\n",
       "    <tr style=\"text-align: right;\">\n",
       "      <th></th>\n",
       "      <th>party</th>\n",
       "      <th>handicapped_infants</th>\n",
       "      <th>water_project</th>\n",
       "      <th>budget_resolution</th>\n",
       "      <th>physicial_fee_freeze</th>\n",
       "      <th>el_salvador_aid</th>\n",
       "      <th>religious_groups_schools</th>\n",
       "      <th>anti_satellite_test_ban</th>\n",
       "      <th>aid_contras</th>\n",
       "      <th>mx_missile</th>\n",
       "      <th>immigration</th>\n",
       "      <th>synfuels_cutback</th>\n",
       "      <th>education_spending</th>\n",
       "      <th>superfund_right_to_sue</th>\n",
       "      <th>crime</th>\n",
       "      <th>duty_free_exports</th>\n",
       "      <th>export_admin_act_south_africa</th>\n",
       "    </tr>\n",
       "  </thead>\n",
       "  <tbody>\n",
       "    <tr>\n",
       "      <th>0</th>\n",
       "      <td>republican</td>\n",
       "      <td>n</td>\n",
       "      <td>y</td>\n",
       "      <td>n</td>\n",
       "      <td>y</td>\n",
       "      <td>y</td>\n",
       "      <td>y</td>\n",
       "      <td>n</td>\n",
       "      <td>n</td>\n",
       "      <td>n</td>\n",
       "      <td>y</td>\n",
       "      <td>?</td>\n",
       "      <td>y</td>\n",
       "      <td>y</td>\n",
       "      <td>y</td>\n",
       "      <td>n</td>\n",
       "      <td>y</td>\n",
       "    </tr>\n",
       "    <tr>\n",
       "      <th>1</th>\n",
       "      <td>republican</td>\n",
       "      <td>n</td>\n",
       "      <td>y</td>\n",
       "      <td>n</td>\n",
       "      <td>y</td>\n",
       "      <td>y</td>\n",
       "      <td>y</td>\n",
       "      <td>n</td>\n",
       "      <td>n</td>\n",
       "      <td>n</td>\n",
       "      <td>n</td>\n",
       "      <td>n</td>\n",
       "      <td>y</td>\n",
       "      <td>y</td>\n",
       "      <td>y</td>\n",
       "      <td>n</td>\n",
       "      <td>?</td>\n",
       "    </tr>\n",
       "    <tr>\n",
       "      <th>2</th>\n",
       "      <td>democrat</td>\n",
       "      <td>?</td>\n",
       "      <td>y</td>\n",
       "      <td>y</td>\n",
       "      <td>?</td>\n",
       "      <td>y</td>\n",
       "      <td>y</td>\n",
       "      <td>n</td>\n",
       "      <td>n</td>\n",
       "      <td>n</td>\n",
       "      <td>n</td>\n",
       "      <td>y</td>\n",
       "      <td>n</td>\n",
       "      <td>y</td>\n",
       "      <td>y</td>\n",
       "      <td>n</td>\n",
       "      <td>n</td>\n",
       "    </tr>\n",
       "    <tr>\n",
       "      <th>3</th>\n",
       "      <td>democrat</td>\n",
       "      <td>n</td>\n",
       "      <td>y</td>\n",
       "      <td>y</td>\n",
       "      <td>n</td>\n",
       "      <td>?</td>\n",
       "      <td>y</td>\n",
       "      <td>n</td>\n",
       "      <td>n</td>\n",
       "      <td>n</td>\n",
       "      <td>n</td>\n",
       "      <td>y</td>\n",
       "      <td>n</td>\n",
       "      <td>y</td>\n",
       "      <td>n</td>\n",
       "      <td>n</td>\n",
       "      <td>y</td>\n",
       "    </tr>\n",
       "    <tr>\n",
       "      <th>4</th>\n",
       "      <td>democrat</td>\n",
       "      <td>y</td>\n",
       "      <td>y</td>\n",
       "      <td>y</td>\n",
       "      <td>n</td>\n",
       "      <td>y</td>\n",
       "      <td>y</td>\n",
       "      <td>n</td>\n",
       "      <td>n</td>\n",
       "      <td>n</td>\n",
       "      <td>n</td>\n",
       "      <td>y</td>\n",
       "      <td>?</td>\n",
       "      <td>y</td>\n",
       "      <td>y</td>\n",
       "      <td>y</td>\n",
       "      <td>y</td>\n",
       "    </tr>\n",
       "  </tbody>\n",
       "</table>\n",
       "</div>"
      ],
      "text/plain": [
       "        party handicapped_infants water_project budget_resolution  \\\n",
       "0  republican                   n             y                 n   \n",
       "1  republican                   n             y                 n   \n",
       "2    democrat                   ?             y                 y   \n",
       "3    democrat                   n             y                 y   \n",
       "4    democrat                   y             y                 y   \n",
       "\n",
       "  physicial_fee_freeze el_salvador_aid religious_groups_schools  \\\n",
       "0                    y               y                        y   \n",
       "1                    y               y                        y   \n",
       "2                    ?               y                        y   \n",
       "3                    n               ?                        y   \n",
       "4                    n               y                        y   \n",
       "\n",
       "  anti_satellite_test_ban aid_contras mx_missile immigration synfuels_cutback  \\\n",
       "0                       n           n          n           y                ?   \n",
       "1                       n           n          n           n                n   \n",
       "2                       n           n          n           n                y   \n",
       "3                       n           n          n           n                y   \n",
       "4                       n           n          n           n                y   \n",
       "\n",
       "  education_spending superfund_right_to_sue crime duty_free_exports  \\\n",
       "0                  y                      y     y                 n   \n",
       "1                  y                      y     y                 n   \n",
       "2                  n                      y     y                 n   \n",
       "3                  n                      y     n                 n   \n",
       "4                  ?                      y     y                 y   \n",
       "\n",
       "  export_admin_act_south_africa  \n",
       "0                             y  \n",
       "1                             ?  \n",
       "2                             n  \n",
       "3                             y  \n",
       "4                             y  "
      ]
     },
     "execution_count": 21,
     "metadata": {},
     "output_type": "execute_result"
    }
   ],
   "source": [
    "# Importar datos con columnas nombradas correctamente\n",
    "columns = ['party', 'handicapped_infants', 'water_project', 'budget_resolution', 'physicial_fee_freeze', 'el_salvador_aid', \n",
    "           'religious_groups_schools', 'anti_satellite_test_ban', 'aid_contras', 'mx_missile', 'immigration',\n",
    "           'synfuels_cutback', 'education_spending', 'superfund_right_to_sue', 'crime', 'duty_free_exports', \n",
    "           'export_admin_act_south_africa']\n",
    "data = pd.read_csv(\"../datos/house-votes-84.data\", names=columns)\n",
    "\n",
    "# Visualizar datos\n",
    "data.head()"
   ]
  },
  {
   "cell_type": "markdown",
   "metadata": {},
   "source": [
    "### Análisis exploratorio y limpieza de los datos"
   ]
  },
  {
   "cell_type": "markdown",
   "metadata": {},
   "source": [
    "#### Estructura de los datos"
   ]
  },
  {
   "cell_type": "code",
   "execution_count": 6,
   "metadata": {},
   "outputs": [
    {
     "name": "stdout",
     "output_type": "stream",
     "text": [
      "\n",
      "Columnas: \t17\n",
      "Filas: \t\t435\n",
      "\n",
      "Columnas y tipos:\n",
      "party                            object\n",
      "handicapped_infants              object\n",
      "water_project                    object\n",
      "budget_resolution                object\n",
      "physicial_fee_freeze             object\n",
      "el_salvador_aid                  object\n",
      "religious_groups_schools         object\n",
      "anti_satellite_test_ban          object\n",
      "aid_contras                      object\n",
      "mx_missile                       object\n",
      "immigration                      object\n",
      "synfuels_cutback                 object\n",
      "education_spending               object\n",
      "superfund_right_to_sue           object\n",
      "crime                            object\n",
      "duty_free_exports                object\n",
      "export_admin_act_south_africa    object\n",
      "dtype: object\n",
      "\n"
     ]
    }
   ],
   "source": [
    "print(f\"\"\"\n",
    "Columnas: \\t{data.shape[1]:,d}\n",
    "Filas: \\t\\t{data.shape[0]:,d}\n",
    "\n",
    "Columnas y tipos:\n",
    "{data.dtypes}\n",
    "\"\"\")"
   ]
  },
  {
   "cell_type": "markdown",
   "metadata": {},
   "source": [
    "#### Datos en blanco"
   ]
  },
  {
   "cell_type": "code",
   "execution_count": 7,
   "metadata": {},
   "outputs": [
    {
     "name": "stdout",
     "output_type": "stream",
     "text": [
      "Datos en blanco: 0\n"
     ]
    }
   ],
   "source": [
    "# Datos en blanco?\n",
    "missing = data.isna().sum().sum()\n",
    "print(f\"Datos en blanco: {missing:,d}\")"
   ]
  },
  {
   "cell_type": "markdown",
   "metadata": {},
   "source": [
    "Debería haber datos en blanco, de acuerdo a la documentación. Como se ve en el siguiente bloque. Esto se debe a que la documentación se refiere a los '`?`' como datos en blanco.\n",
    "\n",
    "Sin embargo, como también explica la documentación, no es correcto que los valores `'?'` se refieran a valores desconocidos, sino a votos que no son a favor ni en contra (votos neutros). Es decir, estos no son datos faltantes o en blanco, son un valor definido, y deben tratarse como tal.\n",
    "\n",
    "Adicional a esto, hay una discrepancia entre el conteo de votos neutros incluido en la documentación y el obtenido en el siguiente bloque. De acuerdo a los resultados observados, pareciese que la documentación trocara los valores de cada columna una posición hacia abajo. Para tener más certeza de que esto es un error en la documentación, conté los valores utilizando Bash (dos bloques más abajo) en vez de Python, donde obtuve los mismos resultados. Por lo tanto, asumiré que esto es un error en la documentación, no en los datos."
   ]
  },
  {
   "cell_type": "code",
   "execution_count": 8,
   "metadata": {},
   "outputs": [
    {
     "name": "stdout",
     "output_type": "stream",
     "text": [
      " 1. party \t0\n",
      " 2. handicapped_infants \t12\n",
      " 3. water_project \t48\n",
      " 4. budget_resolution \t11\n",
      " 5. physicial_fee_freeze \t11\n",
      " 6. el_salvador_aid \t15\n",
      " 7. religious_groups_schools \t11\n",
      " 8. anti_satellite_test_ban \t14\n",
      " 9. aid_contras \t15\n",
      "10. mx_missile \t22\n",
      "11. immigration \t7\n",
      "12. synfuels_cutback \t21\n",
      "13. education_spending \t31\n",
      "14. superfund_right_to_sue \t25\n",
      "15. crime \t17\n",
      "16. duty_free_exports \t28\n",
      "17. export_admin_act_south_africa \t104\n"
     ]
    }
   ],
   "source": [
    "for idx, col in enumerate(columns):\n",
    "    print(f\"{idx + 1:2}. {col} \\t{(data[col] == '?').sum()}\")"
   ]
  },
  {
   "cell_type": "code",
   "execution_count": 9,
   "metadata": {},
   "outputs": [
    {
     "name": "stdout",
     "output_type": "stream",
     "text": [
      "     12 ?\n",
      "    236 n\n",
      "    187 y\n"
     ]
    }
   ],
   "source": [
    "%%bash\n",
    "# Validar si obtengo el mismo conteo de '?' en Bash\n",
    "cut -f2 -d, ../data/house-votes-84.data | sort | uniq -c"
   ]
  },
  {
   "cell_type": "markdown",
   "metadata": {},
   "source": [
    "En conclusuión, estos datos no contienen valores en blanco (missing), por lo que no es necesario tratarlos (por ejemplo, imputarlos)"
   ]
  },
  {
   "cell_type": "markdown",
   "metadata": {},
   "source": [
    "#### Análisis univariado"
   ]
  },
  {
   "cell_type": "markdown",
   "metadata": {},
   "source": [
    "Partido"
   ]
  },
  {
   "cell_type": "code",
   "execution_count": 11,
   "metadata": {},
   "outputs": [
    {
     "data": {
      "image/png": "[encoded data removed]",
      "text/plain": [
       "<Figure size 640x480 with 1 Axes>"
      ]
     },
     "metadata": {},
     "output_type": "display_data"
    }
   ],
   "source": [
    "# Graficar conteo de instancias en cada partido\n",
    "party_count = data['party'].value_counts()\n",
    "fig, ax = plt.subplots()\n",
    "ax.barh(y=party_count.index, width=party_count)\n",
    "ax.set_title(\"Instancias de cada partidos político\")\n",
    "ax.grid(axis='x')\n",
    "ax.set_yticks(['republican', 'democrat'])\n",
    "ax.set_yticklabels(['Republicano', 'Demócrata'])\n",
    "\n",
    "ax.set_xlim(xmax=ax.get_xlim()[1] * 1.25)\n",
    "\n",
    "for idx, party in enumerate(party_count.index):\n",
    "    counter = party_count.loc[party, ]\n",
    "    ax.text(y=idx - 0.1, \n",
    "            x=party_count.loc[party, ] + 4, \n",
    "            s=f\"{counter} ({counter / data.shape[0] * 100:.1f}%)\")\n",
    "plt.show()"
   ]
  },
  {
   "cell_type": "markdown",
   "metadata": {},
   "source": [
    "Votaciones"
   ]
  },
  {
   "cell_type": "code",
   "execution_count": 15,
   "metadata": {},
   "outputs": [
    {
     "data": {
      "image/png": "[encoded data removed]",
      "text/plain": [
       "<Figure size 1000x800 with 16 Axes>"
      ]
     },
     "metadata": {},
     "output_type": "display_data"
    }
   ],
   "source": [
    "# Calcular dimensiones de matriz de gráficos\n",
    "plots_num = len(data.columns) - 1\n",
    "rows_cols_num = int(np.sqrt(plots_num) // 1)\n",
    "\n",
    "# Crea figura que contendrá los gráficos\n",
    "fig, axs = plt.subplots(ncols=rows_cols_num, \n",
    "                        nrows=rows_cols_num, \n",
    "                        figsize=(10, 8), \n",
    "                        sharex=True, \n",
    "                        sharey=True, \n",
    "                        layout='constrained')\n",
    "fig.suptitle(\"Votos por Política\")\n",
    "\n",
    "# Graficar proporción de votos de cada una de las votaciones\n",
    "for idx, col in enumerate(columns[1:]):\n",
    "        voting_count = data[col].value_counts()\n",
    "        curr_row = idx // rows_cols_num\n",
    "        curr_col = idx % rows_cols_num\n",
    "        curr_ax = axs[curr_row][curr_col]\n",
    "        curr_ax.bar(x=voting_count.index, height=voting_count)\n",
    "        curr_ax.grid(axis='y')\n",
    "        curr_ax.set_title(col)\n",
    "        curr_ax.set_xticks(['n', 'y', '?'])\n",
    "        curr_ax.set_xticklabels(['No', 'Sí', 'Neutro']);"
   ]
  },
  {
   "cell_type": "markdown",
   "metadata": {},
   "source": [
    "#### Análisis bivariado"
   ]
  },
  {
   "cell_type": "markdown",
   "metadata": {},
   "source": [
    "Para el análisis vibariado, me concentraré en encontrar políticas que me permitan predecir el partido de un representante en función de cómo haya votado en cada una de las 16 votaciones contenidas en el conjunto de datos.\n",
    "\n",
    "En este caso, estamos tratando con variables nominales (partido vs votación X) donde una de las variables tiene más de dos valores (No, Sí, Neutro), por lo que puedo utilizar el coeficiente de Cramer para calcular la correlación entre el partido y cada una de las votaciones."
   ]
  },
  {
   "cell_type": "code",
   "execution_count": 3,
   "metadata": {},
   "outputs": [
    {
     "name": "stdout",
     "output_type": "stream",
     "text": [
      "V de Cramer (Partido vs Votación X):\n"
     ]
    },
    {
     "data": {
      "text/plain": [
       "physicial_fee_freeze             0.83\n",
       "budget_resolution                0.55\n",
       "el_salvador_aid                  0.51\n",
       "education_spending               0.47\n",
       "aid_contras                      0.44\n",
       "mx_missile                       0.40\n",
       "crime                            0.38\n",
       "superfund_right_to_sue           0.29\n",
       "duty_free_exports                0.27\n",
       "anti_satellite_test_ban          0.26\n",
       "religious_groups_schools         0.18\n",
       "handicapped_infants              0.17\n",
       "synfuels_cutback                 0.14\n",
       "export_admin_act_south_africa    0.14\n",
       "immigration                      0.01\n",
       "water_project                    0.00\n",
       "dtype: float64"
      ]
     },
     "execution_count": 3,
     "metadata": {},
     "output_type": "execute_result"
    }
   ],
   "source": [
    "# Codificar todas las variables por valores numéricos\n",
    "codes_to_replace = {'republican': 1,\n",
    "                    'democrat': 0, \n",
    "                    'n': 0, \n",
    "                    'y': 1, \n",
    "                    '?': 2}\n",
    "\n",
    "data_encoded = data.replace(codes_to_replace)\n",
    "\n",
    "# Definir función para calcular V de Cramer\n",
    "def v_cramer(var1, var2):\n",
    "    \"\"\" Calculates Cramer's V for two nominal variables\n",
    "    \n",
    "    Keyword arguments:\n",
    "    var1 - First nominal variables\n",
    "    var2 - Second nominal variable\n",
    "    \"\"\"\n",
    "    crosstab =np.array(pd.crosstab(var1,var2, rownames=None, colnames=None))\n",
    "    stat = stats.chi2_contingency(crosstab)[0] \n",
    "    obs = np.sum(crosstab)\n",
    "    mini = min(crosstab.shape) - 1\n",
    "    \n",
    "    return (stat/(obs*mini))\n",
    "\n",
    "# Calcular V de Cramer entre Partido y cada una de la variables de votación\n",
    "v_cramers = []\n",
    "for x_train_col in data.columns[1:]:\n",
    "    cramer = v_cramer(data_encoded['party'], data_encoded[x_train_col])\n",
    "    v_cramers.append(np.round(cramer, 2))\n",
    "\n",
    "# Imprimir resultados, de mayor a menor valor\n",
    "v_cramers = pd.Series(v_cramers, index=data.columns[1:])\n",
    "print('V de Cramer (Partido vs Votación X):')\n",
    "v_cramers.sort_values(ascending=False)"
   ]
  },
  {
   "cell_type": "markdown",
   "metadata": {},
   "source": [
    "### Modelación"
   ]
  },
  {
   "cell_type": "markdown",
   "metadata": {},
   "source": [
    "#### Contexto del Problema"
   ]
  },
  {
   "cell_type": "markdown",
   "metadata": {},
   "source": [
    "El modelo creado intentará resolver la siguiente pregunta hipotética: "
   ]
  },
  {
   "cell_type": "markdown",
   "metadata": {},
   "source": [
    "#### Preparacion de los datos"
   ]
  },
  {
   "cell_type": "markdown",
   "metadata": {},
   "source": [
    "Codificar todas las variables"
   ]
  },
  {
   "cell_type": "code",
   "execution_count": 4,
   "metadata": {},
   "outputs": [],
   "source": [
    "# Codificar todas las variables por valores numéricos\n",
    "codes_to_replace = {'republican': 1,\n",
    "                    'democrat': 0, \n",
    "                    'n': 0, \n",
    "                    'y': 1, \n",
    "                    '?': 2}\n",
    "\n",
    "data_encoded = data.replace(codes_to_replace)"
   ]
  },
  {
   "cell_type": "markdown",
   "metadata": {},
   "source": [
    "A pesar de que la variable independiente no es completamente balanceada, el desbalance está dentro de un rango razonable. Igualmente, más adelante validaré si el desbalance observado tiene algún impacto sobre el deesempeño del modelo, mediante el uso de métricas de desempeño que tengan en cuenta este desbalance."
   ]
  },
  {
   "cell_type": "code",
   "execution_count": 5,
   "metadata": {},
   "outputs": [
    {
     "data": {
      "text/plain": [
       "0    61.37931\n",
       "1    38.62069\n",
       "Name: party, dtype: float64"
      ]
     },
     "execution_count": 5,
     "metadata": {},
     "output_type": "execute_result"
    }
   ],
   "source": [
    "data_encoded['party'].value_counts() / data_encoded.shape[0] * 100"
   ]
  },
  {
   "cell_type": "markdown",
   "metadata": {},
   "source": [
    "Dividir en conjunto de datos de entrenamiento y validación"
   ]
  },
  {
   "cell_type": "code",
   "execution_count": 6,
   "metadata": {},
   "outputs": [
    {
     "name": "stdout",
     "output_type": "stream",
     "text": [
      "\n",
      "Observaciones entrenamiento: \t348\n",
      "Observaciones validación: \t87\n",
      "\n"
     ]
    }
   ],
   "source": [
    "# Dividir datos en conjunto de entrenamiento y validacion\n",
    "X_train, X_test, y_train, y_test = train_test_split(data_encoded.iloc[:,1:],\n",
    "                                                    data_encoded.iloc[:, 0],\n",
    "                                                    test_size=0.2, \n",
    "                                                    random_state=67)\n",
    "\n",
    "print(f\"\"\"\n",
    "Observaciones entrenamiento: \\t{X_train.shape[0]:,d}\n",
    "Observaciones validación: \\t{X_test.shape[0]:,d}\n",
    "\"\"\")"
   ]
  },
  {
   "cell_type": "markdown",
   "metadata": {},
   "source": [
    "#### Entrenamiento de modelo"
   ]
  },
  {
   "cell_type": "markdown",
   "metadata": {},
   "source": [
    "Entrenar modelo utilizando `GridSearchCV` para encontrar mejor combinación de hiperparámetros"
   ]
  },
  {
   "cell_type": "code",
   "execution_count": 7,
   "metadata": {},
   "outputs": [],
   "source": [
    "# Definir modelo y construir parrilla de evaluación de hiperparámetros\n",
    "classifier = CategoricalNB()\n",
    "grid = {'alpha': np.arange(0.1, 1.05, 0.1), \n",
    "        'fit_prior': [True, False]}\n",
    "grid_search_clf = GridSearchCV(classifier, \n",
    "                               param_grid=grid, \n",
    "                               scoring='accuracy', \n",
    "                               cv=5)\n",
    "\n",
    "# Encontrar mejor modelo evaluando hiperparámetros de la parrilla\n",
    "grid_search_clf.fit(X_train, y_train)\n",
    "\n",
    "# Seleccionar mejor modelo\n",
    "best_clf = grid_search_clf.best_estimator_"
   ]
  },
  {
   "cell_type": "markdown",
   "metadata": {},
   "source": [
    "#### Evaluación de modelo"
   ]
  },
  {
   "cell_type": "markdown",
   "metadata": {},
   "source": [
    "Evaluar mejor modelo contra conjunto de datos de validación"
   ]
  },
  {
   "cell_type": "code",
   "execution_count": 8,
   "metadata": {},
   "outputs": [],
   "source": [
    "# Pronostico basado en conjunto de validación\n",
    "y_test_predict = best_clf.predict(X_test)\n",
    "\n",
    "# Probabilidades pronosticadas\n",
    "y_test_prob = best_clf.predict_proba(X_test, )\n",
    "y_test_prob = [row[1] for row in y_test_prob]"
   ]
  },
  {
   "cell_type": "markdown",
   "metadata": {},
   "source": [
    "Matriz de confusión"
   ]
  },
  {
   "cell_type": "code",
   "execution_count": 9,
   "metadata": {},
   "outputs": [
    {
     "data": {
      "text/plain": [
       "Text(0.5, 1.0, 'Matriz de Confusión')"
      ]
     },
     "execution_count": 9,
     "metadata": {},
     "output_type": "execute_result"
    },
    {
     "data": {
      "image/png": "[encoded data removed]",
      "text/plain": [
       "<Figure size 640x480 with 2 Axes>"
      ]
     },
     "metadata": {},
     "output_type": "display_data"
    }
   ],
   "source": [
    "confusion = confusion_matrix(y_test, \n",
    "                             y_test_predict, \n",
    "                             normalize='true')\n",
    "confusion_disp = ConfusionMatrixDisplay(confusion, \n",
    "                                        display_labels=['Democrat', 'Republican']) \n",
    "confusion_disp.plot(cmap='Greens')\n",
    "confusion_disp.ax_.set_title('Matriz de Confusión')"
   ]
  },
  {
   "cell_type": "markdown",
   "metadata": {},
   "source": [
    "Métricas de desempeño"
   ]
  },
  {
   "cell_type": "code",
   "execution_count": 10,
   "metadata": {},
   "outputs": [
    {
     "name": "stdout",
     "output_type": "stream",
     "text": [
      "\n",
      "Accuracy: \t\t0.91\n",
      "Accuracy (balanceada): \t0.92\n",
      "F1: \t\t\t0.90\n",
      "\n"
     ]
    }
   ],
   "source": [
    "# Calcular métricas de desempeño\n",
    "accuracy = accuracy_score(y_test, y_test_predict)\n",
    "balanced_accuracy = balanced_accuracy_score(y_test, y_test_predict)\n",
    "f1 = f1_score(y_test, y_test_predict)\n",
    "\n",
    "print(f\"\"\"\n",
    "Accuracy: \\t\\t{accuracy:.2f}\n",
    "Accuracy (balanceada): \\t{balanced_accuracy:.2f}\n",
    "F1: \\t\\t\\t{f1:.2f}\n",
    "\"\"\")\n"
   ]
  },
  {
   "cell_type": "markdown",
   "metadata": {},
   "source": [
    "Curva ROC"
   ]
  },
  {
   "cell_type": "code",
   "execution_count": 16,
   "metadata": {},
   "outputs": [
    {
     "data": {
      "image/png": "[encoded data removed]",
      "text/plain": [
       "<Figure size 640x480 with 1 Axes>"
      ]
     },
     "metadata": {},
     "output_type": "display_data"
    }
   ],
   "source": [
    "area_under_roc = roc_auc_score(y_test, y_test_prob)\n",
    "fpr, tpr, thresholds = roc_curve(y_test, y_test_prob)\n",
    "roc_auc = auc(fpr, tpr)\n",
    "roc_curve_display = RocCurveDisplay(fpr=fpr, tpr=tpr, roc_auc=roc_auc)\n",
    "roc_curve_display.plot()\n",
    "roc_curve_display.ax_.set_title(\"Curva ROC\")\n",
    "roc_curve_display.ax_.set_xlabel(\"Tasa de falsos positivos\")\n",
    "roc_curve_display.ax_.set_ylabel(\"Tasa de verdaderos positivos\")\n",
    "plt.show()"
   ]
  },
  {
   "cell_type": "markdown",
   "metadata": {},
   "source": [
    "Evaluar calibración"
   ]
  },
  {
   "cell_type": "code",
   "execution_count": 113,
   "metadata": {},
   "outputs": [
    {
     "data": {
      "text/plain": [
       "[<matplotlib.lines.Line2D at 0x7fe3d73f0820>]"
      ]
     },
     "execution_count": 113,
     "metadata": {},
     "output_type": "execute_result"
    },
    {
     "data": {
      "image/png": "[encoded data removed]",
      "text/plain": [
       "<Figure size 640x480 with 1 Axes>"
      ]
     },
     "metadata": {},
     "output_type": "display_data"
    }
   ],
   "source": [
    "calibration = calibration_curve(y_test, y_test_prob, n_bins=4)\n",
    "plt.plot(calibration[1], calibration[0])"
   ]
  },
  {
   "cell_type": "code",
   "execution_count": 115,
   "metadata": {},
   "outputs": [
    {
     "data": {
      "text/plain": [
       "[<matplotlib.lines.Line2D at 0x7fe3d7304cd0>]"
      ]
     },
     "execution_count": 115,
     "metadata": {},
     "output_type": "execute_result"
    },
    {
     "data": {
      "image/png": "[encoded data removed]",
      "text/plain": [
       "<Figure size 640x480 with 1 Axes>"
      ]
     },
     "metadata": {},
     "output_type": "display_data"
    }
   ],
   "source": [
    "calibrated_clf = CalibratedClassifierCV(best_clf)\n",
    "calibrated_clf.fit(X_train, y_train)\n",
    "\n",
    "y_test_prob_calib = calibrated_clf.predict_proba(X_test)\n",
    "y_test_prob_calib = [row[1] for row in y_test_prob_calib]\n",
    "\n",
    "calibration_calibrated = calibration_curve(y_test, y_test_prob_calib, n_bins=4)\n",
    "plt.plot(calibration[1], calibration[0])"
   ]
  },
  {
   "cell_type": "markdown",
   "metadata": {},
   "source": [
    "Exportar modelo"
   ]
  },
  {
   "cell_type": "code",
   "execution_count": 18,
   "metadata": {},
   "outputs": [
    {
     "data": {
      "text/plain": [
       "['../models/naive_bayes_classifier.pkl']"
      ]
     },
     "execution_count": 18,
     "metadata": {},
     "output_type": "execute_result"
    }
   ],
   "source": [
    "model_name = '../modelos/naive_bayes_classifier.pkl'\n",
    "joblib.dump(best_clf, model_name, compress=9)"
   ]
  }
 ],
 "metadata": {
  "kernelspec": {
   "display_name": "Python 3.9.13 ('home-capital')",
   "language": "python",
   "name": "python3"
  },
  "language_info": {
   "codemirror_mode": {
    "name": "ipython",
    "version": 3
   },
   "file_extension": ".py",
   "mimetype": "text/x-python",
   "name": "python",
   "nbconvert_exporter": "python",
   "pygments_lexer": "ipython3",
   "version": "3.9.13"
  },
  "orig_nbformat": 4,
  "vscode": {
   "interpreter": {
    "hash": "afc5012a1f2bc34076971ebb60173e7ae202966ba1fb85742f56799430f7fc22"
   }
  }
 },
 "nbformat": 4,
 "nbformat_minor": 2
}
