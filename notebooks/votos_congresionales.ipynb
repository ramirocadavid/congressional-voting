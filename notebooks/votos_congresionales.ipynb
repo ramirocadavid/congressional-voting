{
 "cells": [
  {
   "cell_type": "code",
   "execution_count": null,
   "metadata": {},
   "outputs": [],
   "source": []
  }
 ],
 "metadata": {
  "kernelspec": {
   "display_name": "Python 3.9.13 ('home-capital')",
   "language": "python",
   "name": "python3"
  },
  "language_info": {
   "name": "python",
   "version": "3.9.13"
  },
  "orig_nbformat": 4,
  "vscode": {
   "interpreter": {
    "hash": "afc5012a1f2bc34076971ebb60173e7ae202966ba1fb85742f56799430f7fc22"
   }
  }
 },
 "nbformat": 4,
 "nbformat_minor": 2
}
